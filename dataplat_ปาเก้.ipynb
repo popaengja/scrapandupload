{
 "cells": [
  {
   "cell_type": "code",
   "execution_count": 48,
   "id": "c08687dc-ce7b-497a-9674-e15677295ad9",
   "metadata": {},
   "outputs": [],
   "source": [
    "from dsmlibrary.datanode import DataNode\n",
    "import json\n",
    "from tqdm.auto import tqdm\n",
    "import pandas as pd"
   ]
  },
  {
   "cell_type": "code",
   "execution_count": 49,
   "id": "a8aefdb9-f850-4c1e-85ff-9a626c0d67bf",
   "metadata": {},
   "outputs": [],
   "source": [
    "dir_raw_id = 70\n",
    "dir_process_id = 72"
   ]
  },
  {
   "cell_type": "code",
   "execution_count": 50,
   "id": "e9365e4c-67c7-449b-885c-9b8b8264365d",
   "metadata": {},
   "outputs": [
    {
     "name": "stdout",
     "output_type": "stream",
     "text": [
      "Init DataNode sucessful!\n"
     ]
    }
   ],
   "source": [
    "datanode = DataNode()"
   ]
  },
  {
   "cell_type": "code",
   "execution_count": null,
   "id": "b558cdf0-31ee-42eb-9692-3b5710cf7584",
   "metadata": {},
   "outputs": [],
   "source": []
  },
  {
   "cell_type": "code",
   "execution_count": 51,
   "id": "0aba6696-1e4f-4fe4-bfdc-392dacd6bb39",
   "metadata": {},
   "outputs": [
    {
     "data": {
      "text/plain": [
       "{'owner': 'kitipop',\n",
       " 'human_size': '11.62 KB',\n",
       " 'name': 'ShopeeHerb.csv',\n",
       " 'description': 'file ShopeeHerb.csv',\n",
       " 'directory': 70,\n",
       " 'path': 'kitipop/DSI310-19/rawData/ShopeeHerb.csv'}"
      ]
     },
     "execution_count": 51,
     "metadata": {},
     "output_type": "execute_result"
    }
   ],
   "source": [
    "meta, fp = datanode.get_file(datanode.get_file_id(directory_id=dir_raw_id, name='ShopeeHerb.csv'))\n",
    "meta"
   ]
  },
  {
   "cell_type": "code",
   "execution_count": 52,
   "id": "b13b1082-1c3f-4c78-9ee5-2545524751dd",
   "metadata": {},
   "outputs": [],
   "source": [
    "df = pd.read_csv('ShopeeHerb.csv')"
   ]
  },
  {
   "cell_type": "code",
   "execution_count": 53,
   "id": "097dff4b-9bed-4a2a-8475-63cd7557fa87",
   "metadata": {},
   "outputs": [],
   "source": [
    "df = pd.DataFrame(df)"
   ]
  },
  {
   "cell_type": "code",
   "execution_count": 54,
   "id": "49d26472-28b2-42dd-aed3-b0e0c84023be",
   "metadata": {},
   "outputs": [
    {
     "data": {
      "text/plain": [
       "{'sucess': True,\n",
       " 'file_id': 704,\n",
       " 'path': 'kitipop/DSI310-19/processData/Shopeee.parquet',\n",
       " 'lineage': True}"
      ]
     },
     "execution_count": 54,
     "metadata": {},
     "output_type": "execute_result"
    }
   ],
   "source": [
    "datanode.write(df=df, directory=dir_process_id, name=\"Shopeee\", profiling=True, lineage=[datanode.get_file_id(directory_id=dir_raw_id, name='shopee.json')])\n"
   ]
  },
  {
   "cell_type": "code",
   "execution_count": 34,
   "id": "39e5533a-cb34-42b2-94b4-764df1ea1540",
   "metadata": {},
   "outputs": [],
   "source": [
    "df = pd.DataFrame(df)"
   ]
  },
  {
   "cell_type": "code",
   "execution_count": 31,
   "id": "72ec14cc-e74c-46f3-8094-71124afa3aea",
   "metadata": {},
   "outputs": [
    {
     "data": {
      "text/plain": [
       "Index(['title', 'info'], dtype='object')"
      ]
     },
     "execution_count": 31,
     "metadata": {},
     "output_type": "execute_result"
    }
   ],
   "source": []
  },
  {
   "cell_type": "code",
   "execution_count": null,
   "id": "cf196b6e-2be5-4846-a6da-37fd94466c2a",
   "metadata": {},
   "outputs": [],
   "source": []
  }
 ],
 "metadata": {
  "kernelspec": {
   "display_name": "Python 3 (ipykernel)",
   "language": "python",
   "name": "python3"
  },
  "language_info": {
   "codemirror_mode": {
    "name": "ipython",
    "version": 3
   },
   "file_extension": ".py",
   "mimetype": "text/x-python",
   "name": "python",
   "nbconvert_exporter": "python",
   "pygments_lexer": "ipython3",
   "version": "3.10.5"
  }
 },
 "nbformat": 4,
 "nbformat_minor": 5
}
